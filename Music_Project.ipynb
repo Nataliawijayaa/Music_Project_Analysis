{
  "cells": [
    {
      "cell_type": "markdown",
      "metadata": {
        "id": "view-in-github",
        "colab_type": "text"
      },
      "source": [
        "<a href=\"https://colab.research.google.com/github/Nataliawijayaa/Music_Project_Analysis/blob/main/Music_Project.ipynb\" target=\"_parent\"><img src=\"https://colab.research.google.com/assets/colab-badge.svg\" alt=\"Open In Colab\"/></a>"
      ]
    },
    {
      "cell_type": "markdown",
      "metadata": {
        "id": "E0vqbgi9ay0H"
      },
      "source": [
        "# Y.Music"
      ]
    },
    {
      "cell_type": "markdown",
      "metadata": {
        "id": "fhq_eyov_Zcs"
      },
      "source": [
        "# Table of Contents <a id='back'></a>\n",
        "\n",
        "* [Introduction](#intro)\n",
        "* [Phase 1. Data Overview](#data_review)\n",
        "    * [Data Review Conclusion](#data_review_conclusions)\n",
        "* [Phase 2. Data Preprocessing](#data_preprocessing)\n",
        "    * [2.1 Header Style](#header_style)\n",
        "    * [2.2 Missing Values](#missing_values)\n",
        "    * [2.3 Duplicates](#duplicates)\n",
        "    * [2.4 Data Preprocessing Conclusion](#data_preprocessing_conclusions)\n",
        "* [Phase 3. Hypotheses](#hypotheses)\n",
        "    * [3.1 Hypothesis 1: User activity in Springfield and Shelbyville](#activity)\n",
        "    * [3.2 Hypothesis 2: Music preference on Monday and Friday](#week)\n",
        "    * [3.3 Hypothesis 3: Genre preference in Springfield and Shelbyville](#genre)\n",
        "* [Findings](#end)"
      ]
    },
    {
      "cell_type": "markdown",
      "metadata": {
        "id": "VUC88oWjTJw2"
      },
      "source": [
        "## Introduction <a id='intro'></a>\n",
        "In this project, I will analyze and contrast the music preferences of users residing in the cities of Springfield and Shelbyville. By examining real data from Y.Music, I will test the hypotheses and compare the user behavior between these two cities.\n",
        "\n",
        "### Objectives: \n",
        "To test three hypotheses:\n",
        "1. User activity varies depending on the day and city.\n",
        "1. Springfield and Shelbyville residents exhibit distinct genre preferences during Monday mornings and Friday evenings.\n",
        "1. Musical preferences differ between listeners in Springfield and Shelbyville. Pop music is favored in Springfield, whereas rap music has more fans in Shelbyville.\n",
        "\n",
        "### Phase\n",
        "Information regarding user behavior is stored in *file* `/datasets/music_project_en.csv`. As the quality of the data is unknown, it is necessary to verify it before proceeding with hypothesis testing.\n",
        "\n",
        "Initially, my task is to assess the data quality and determine the extent of any significant issues. Subsequently, during the data pre-processing phase, my focus will be on tackling the most pressing problems that arise.\n",
        "\n",
        "Therefore, this project will consist of three phases:\n",
        " 1. Data Overview\n",
        " 2. Data Preprocessing\n",
        " 3. Hypotheses Testing\n",
        "\n",
        " \n",
        "[Return to Table of Contents](#back)"
      ]
    },
    {
      "cell_type": "markdown",
      "metadata": {
        "id": "Ml1hmfXC_Zcs"
      },
      "source": [
        "## Phase 1. Data Overview <a id='data_review'></a>\n"
      ]
    },
    {
      "cell_type": "code",
      "execution_count": 2,
      "metadata": {
        "id": "AXN7PHPN_Zcs"
      },
      "outputs": [],
      "source": [
        "import pandas as pd\n"
      ]
    },
    {
      "cell_type": "code",
      "execution_count": 4,
      "metadata": {
        "id": "fFVu7vqh_Zct"
      },
      "outputs": [],
      "source": [
        "# read file and store to df\n",
        "df = pd.read_csv('/content/music_project_en.csv')"
      ]
    },
    {
      "cell_type": "code",
      "execution_count": 5,
      "metadata": {
        "id": "oWTVX3gW_Zct",
        "outputId": "2a7bbd3d-08a8-47ec-ce7c-61acf71b1105",
        "colab": {
          "base_uri": "https://localhost:8080/",
          "height": 363
        }
      },
      "outputs": [
        {
          "output_type": "execute_result",
          "data": {
            "text/plain": [
              "     userID                        Track            artist   genre  \\\n",
              "0  FFB692EC            Kamigata To Boots  The Mass Missile    rock   \n",
              "1  55204538  Delayed Because of Accident  Andreas Rönnberg    rock   \n",
              "2    20EC38            Funiculì funiculà       Mario Lanza     pop   \n",
              "3  A3DD03C9        Dragons in the Sunset        Fire + Ice    folk   \n",
              "4  E2DC1FAE                  Soul People        Space Echo   dance   \n",
              "5  842029A1                       Chains          Obladaet  rusrap   \n",
              "6  4CB90AA5                         True      Roman Messer   dance   \n",
              "7  F03E1C1F             Feeling This Way   Polina Griffith   dance   \n",
              "8  8FA1D3BE                     L’estate       Julia Dalia  ruspop   \n",
              "9  E772D5C0                    Pessimist               NaN   dance   \n",
              "\n",
              "        City        time        Day  \n",
              "0  Shelbyville  20:28:33  Wednesday  \n",
              "1  Springfield  14:07:09     Friday  \n",
              "2  Shelbyville  20:58:07  Wednesday  \n",
              "3  Shelbyville  08:37:09     Monday  \n",
              "4  Springfield  08:34:34     Monday  \n",
              "5  Shelbyville  13:09:41     Friday  \n",
              "6  Springfield  13:00:07  Wednesday  \n",
              "7  Springfield  20:47:49  Wednesday  \n",
              "8  Springfield  09:17:40     Friday  \n",
              "9  Shelbyville  21:20:49  Wednesday  "
            ],
            "text/html": [
              "\n",
              "  <div id=\"df-48f60649-a9a4-4a61-af8d-049c61c742e2\">\n",
              "    <div class=\"colab-df-container\">\n",
              "      <div>\n",
              "<style scoped>\n",
              "    .dataframe tbody tr th:only-of-type {\n",
              "        vertical-align: middle;\n",
              "    }\n",
              "\n",
              "    .dataframe tbody tr th {\n",
              "        vertical-align: top;\n",
              "    }\n",
              "\n",
              "    .dataframe thead th {\n",
              "        text-align: right;\n",
              "    }\n",
              "</style>\n",
              "<table border=\"1\" class=\"dataframe\">\n",
              "  <thead>\n",
              "    <tr style=\"text-align: right;\">\n",
              "      <th></th>\n",
              "      <th>userID</th>\n",
              "      <th>Track</th>\n",
              "      <th>artist</th>\n",
              "      <th>genre</th>\n",
              "      <th>City</th>\n",
              "      <th>time</th>\n",
              "      <th>Day</th>\n",
              "    </tr>\n",
              "  </thead>\n",
              "  <tbody>\n",
              "    <tr>\n",
              "      <th>0</th>\n",
              "      <td>FFB692EC</td>\n",
              "      <td>Kamigata To Boots</td>\n",
              "      <td>The Mass Missile</td>\n",
              "      <td>rock</td>\n",
              "      <td>Shelbyville</td>\n",
              "      <td>20:28:33</td>\n",
              "      <td>Wednesday</td>\n",
              "    </tr>\n",
              "    <tr>\n",
              "      <th>1</th>\n",
              "      <td>55204538</td>\n",
              "      <td>Delayed Because of Accident</td>\n",
              "      <td>Andreas Rönnberg</td>\n",
              "      <td>rock</td>\n",
              "      <td>Springfield</td>\n",
              "      <td>14:07:09</td>\n",
              "      <td>Friday</td>\n",
              "    </tr>\n",
              "    <tr>\n",
              "      <th>2</th>\n",
              "      <td>20EC38</td>\n",
              "      <td>Funiculì funiculà</td>\n",
              "      <td>Mario Lanza</td>\n",
              "      <td>pop</td>\n",
              "      <td>Shelbyville</td>\n",
              "      <td>20:58:07</td>\n",
              "      <td>Wednesday</td>\n",
              "    </tr>\n",
              "    <tr>\n",
              "      <th>3</th>\n",
              "      <td>A3DD03C9</td>\n",
              "      <td>Dragons in the Sunset</td>\n",
              "      <td>Fire + Ice</td>\n",
              "      <td>folk</td>\n",
              "      <td>Shelbyville</td>\n",
              "      <td>08:37:09</td>\n",
              "      <td>Monday</td>\n",
              "    </tr>\n",
              "    <tr>\n",
              "      <th>4</th>\n",
              "      <td>E2DC1FAE</td>\n",
              "      <td>Soul People</td>\n",
              "      <td>Space Echo</td>\n",
              "      <td>dance</td>\n",
              "      <td>Springfield</td>\n",
              "      <td>08:34:34</td>\n",
              "      <td>Monday</td>\n",
              "    </tr>\n",
              "    <tr>\n",
              "      <th>5</th>\n",
              "      <td>842029A1</td>\n",
              "      <td>Chains</td>\n",
              "      <td>Obladaet</td>\n",
              "      <td>rusrap</td>\n",
              "      <td>Shelbyville</td>\n",
              "      <td>13:09:41</td>\n",
              "      <td>Friday</td>\n",
              "    </tr>\n",
              "    <tr>\n",
              "      <th>6</th>\n",
              "      <td>4CB90AA5</td>\n",
              "      <td>True</td>\n",
              "      <td>Roman Messer</td>\n",
              "      <td>dance</td>\n",
              "      <td>Springfield</td>\n",
              "      <td>13:00:07</td>\n",
              "      <td>Wednesday</td>\n",
              "    </tr>\n",
              "    <tr>\n",
              "      <th>7</th>\n",
              "      <td>F03E1C1F</td>\n",
              "      <td>Feeling This Way</td>\n",
              "      <td>Polina Griffith</td>\n",
              "      <td>dance</td>\n",
              "      <td>Springfield</td>\n",
              "      <td>20:47:49</td>\n",
              "      <td>Wednesday</td>\n",
              "    </tr>\n",
              "    <tr>\n",
              "      <th>8</th>\n",
              "      <td>8FA1D3BE</td>\n",
              "      <td>L’estate</td>\n",
              "      <td>Julia Dalia</td>\n",
              "      <td>ruspop</td>\n",
              "      <td>Springfield</td>\n",
              "      <td>09:17:40</td>\n",
              "      <td>Friday</td>\n",
              "    </tr>\n",
              "    <tr>\n",
              "      <th>9</th>\n",
              "      <td>E772D5C0</td>\n",
              "      <td>Pessimist</td>\n",
              "      <td>NaN</td>\n",
              "      <td>dance</td>\n",
              "      <td>Shelbyville</td>\n",
              "      <td>21:20:49</td>\n",
              "      <td>Wednesday</td>\n",
              "    </tr>\n",
              "  </tbody>\n",
              "</table>\n",
              "</div>\n",
              "      <button class=\"colab-df-convert\" onclick=\"convertToInteractive('df-48f60649-a9a4-4a61-af8d-049c61c742e2')\"\n",
              "              title=\"Convert this dataframe to an interactive table.\"\n",
              "              style=\"display:none;\">\n",
              "        \n",
              "  <svg xmlns=\"http://www.w3.org/2000/svg\" height=\"24px\"viewBox=\"0 0 24 24\"\n",
              "       width=\"24px\">\n",
              "    <path d=\"M0 0h24v24H0V0z\" fill=\"none\"/>\n",
              "    <path d=\"M18.56 5.44l.94 2.06.94-2.06 2.06-.94-2.06-.94-.94-2.06-.94 2.06-2.06.94zm-11 1L8.5 8.5l.94-2.06 2.06-.94-2.06-.94L8.5 2.5l-.94 2.06-2.06.94zm10 10l.94 2.06.94-2.06 2.06-.94-2.06-.94-.94-2.06-.94 2.06-2.06.94z\"/><path d=\"M17.41 7.96l-1.37-1.37c-.4-.4-.92-.59-1.43-.59-.52 0-1.04.2-1.43.59L10.3 9.45l-7.72 7.72c-.78.78-.78 2.05 0 2.83L4 21.41c.39.39.9.59 1.41.59.51 0 1.02-.2 1.41-.59l7.78-7.78 2.81-2.81c.8-.78.8-2.07 0-2.86zM5.41 20L4 18.59l7.72-7.72 1.47 1.35L5.41 20z\"/>\n",
              "  </svg>\n",
              "      </button>\n",
              "      \n",
              "  <style>\n",
              "    .colab-df-container {\n",
              "      display:flex;\n",
              "      flex-wrap:wrap;\n",
              "      gap: 12px;\n",
              "    }\n",
              "\n",
              "    .colab-df-convert {\n",
              "      background-color: #E8F0FE;\n",
              "      border: none;\n",
              "      border-radius: 50%;\n",
              "      cursor: pointer;\n",
              "      display: none;\n",
              "      fill: #1967D2;\n",
              "      height: 32px;\n",
              "      padding: 0 0 0 0;\n",
              "      width: 32px;\n",
              "    }\n",
              "\n",
              "    .colab-df-convert:hover {\n",
              "      background-color: #E2EBFA;\n",
              "      box-shadow: 0px 1px 2px rgba(60, 64, 67, 0.3), 0px 1px 3px 1px rgba(60, 64, 67, 0.15);\n",
              "      fill: #174EA6;\n",
              "    }\n",
              "\n",
              "    [theme=dark] .colab-df-convert {\n",
              "      background-color: #3B4455;\n",
              "      fill: #D2E3FC;\n",
              "    }\n",
              "\n",
              "    [theme=dark] .colab-df-convert:hover {\n",
              "      background-color: #434B5C;\n",
              "      box-shadow: 0px 1px 3px 1px rgba(0, 0, 0, 0.15);\n",
              "      filter: drop-shadow(0px 1px 2px rgba(0, 0, 0, 0.3));\n",
              "      fill: #FFFFFF;\n",
              "    }\n",
              "  </style>\n",
              "\n",
              "      <script>\n",
              "        const buttonEl =\n",
              "          document.querySelector('#df-48f60649-a9a4-4a61-af8d-049c61c742e2 button.colab-df-convert');\n",
              "        buttonEl.style.display =\n",
              "          google.colab.kernel.accessAllowed ? 'block' : 'none';\n",
              "\n",
              "        async function convertToInteractive(key) {\n",
              "          const element = document.querySelector('#df-48f60649-a9a4-4a61-af8d-049c61c742e2');\n",
              "          const dataTable =\n",
              "            await google.colab.kernel.invokeFunction('convertToInteractive',\n",
              "                                                     [key], {});\n",
              "          if (!dataTable) return;\n",
              "\n",
              "          const docLinkHtml = 'Like what you see? Visit the ' +\n",
              "            '<a target=\"_blank\" href=https://colab.research.google.com/notebooks/data_table.ipynb>data table notebook</a>'\n",
              "            + ' to learn more about interactive tables.';\n",
              "          element.innerHTML = '';\n",
              "          dataTable['output_type'] = 'display_data';\n",
              "          await google.colab.output.renderOutput(dataTable, element);\n",
              "          const docLink = document.createElement('div');\n",
              "          docLink.innerHTML = docLinkHtml;\n",
              "          element.appendChild(docLink);\n",
              "        }\n",
              "      </script>\n",
              "    </div>\n",
              "  </div>\n",
              "  "
            ]
          },
          "metadata": {},
          "execution_count": 5
        }
      ],
      "source": [
        "# Show the first 10 row\n",
        "df.head(10)"
      ]
    },
    {
      "cell_type": "code",
      "execution_count": 6,
      "metadata": {
        "id": "DSf2kIb-_Zct",
        "colab": {
          "base_uri": "https://localhost:8080/"
        },
        "outputId": "8e586893-15ec-4741-8023-db446b0f6112"
      },
      "outputs": [
        {
          "output_type": "stream",
          "name": "stdout",
          "text": [
            "<class 'pandas.core.frame.DataFrame'>\n",
            "RangeIndex: 65079 entries, 0 to 65078\n",
            "Data columns (total 7 columns):\n",
            " #   Column    Non-Null Count  Dtype \n",
            "---  ------    --------------  ----- \n",
            " 0     userID  65079 non-null  object\n",
            " 1   Track     63736 non-null  object\n",
            " 2   artist    57512 non-null  object\n",
            " 3   genre     63881 non-null  object\n",
            " 4     City    65079 non-null  object\n",
            " 5   time      65079 non-null  object\n",
            " 6   Day       65079 non-null  object\n",
            "dtypes: object(7)\n",
            "memory usage: 3.5+ MB\n"
          ]
        }
      ],
      "source": [
        "# Information about the table\n",
        "df.info()"
      ]
    },
    {
      "cell_type": "markdown",
      "metadata": {
        "id": "TaQ2Iwbr_Zct"
      },
      "source": [
        "The number of values in each column is different. All of which share the data type, which is: `object`.\n",
        "\n",
        "Based on the ocumentation:\n",
        "- `'userID'` \n",
        "- `'Track'` — track title\n",
        "- `'artist'` — artist name\n",
        "- `'genre'`\n",
        "- `'City'`\n",
        "- `'time'` — The duration of song playback\n",
        "- `'Day'` — days in a week\n",
        "\n",
        "There are three issues with the column name styling:\n",
        "1. Inconsistency in capitalization, with some names written in uppercase and others in lowercase.\n",
        "1. Presence of spaces in certain names.\n",
        "1. Some have two-word column names and lack of proper separation.\n",
        "\n",
        "Moreover, the varying number of column values indicates the presence of missing data in our dataset.\n"
      ]
    },
    {
      "cell_type": "markdown",
      "metadata": {
        "id": "MCB6-dXG_Zct"
      },
      "source": [
        "### Conclusion <a id='data_review_conclusions'></a> \n",
        "\n",
        "Every row in the table contains information about a specific song track being played. Some columns hold data describing the track, such as title, artist, and genre. Other columns contain user-related information, such as their hometown and the time when they played the track.\n",
        "\n",
        "\n",
        "It is evident that the available data is adequate for hypothesis testing. However, we do have missing values.\n",
        "\n",
        "\n",
        "To proceed with the analysis, it is necessary to perform data pre-processing as a preliminary step."
      ]
    },
    {
      "cell_type": "markdown",
      "metadata": {
        "id": "3eL__vcwViOi"
      },
      "source": [
        "[Return to Table of Contents](#back)"
      ]
    },
    {
      "cell_type": "markdown",
      "metadata": {
        "id": "SjYF6Ub9_Zct"
      },
      "source": [
        "## Phase 2. Data Preprocessing <a id='data_preprocessing'></a>\n",
        "To begin, we need to address the formatting inconsistencies in the column headings and resolve any missing values. Afterwards, we should check for duplicates within the dataset to ensure data integrity."
      ]
    },
    {
      "cell_type": "markdown",
      "metadata": {
        "id": "dIaKXr29_Zct"
      },
      "source": [
        "### Column Headings <a id='header_style'></a>\n"
      ]
    },
    {
      "cell_type": "code",
      "execution_count": 7,
      "metadata": {
        "id": "oKOTdF_Q_Zct",
        "colab": {
          "base_uri": "https://localhost:8080/"
        },
        "outputId": "9f4b6d44-5372-4066-8565-c140f62ae41a"
      },
      "outputs": [
        {
          "output_type": "execute_result",
          "data": {
            "text/plain": [
              "Index(['  userID', 'Track', 'artist', 'genre', '  City  ', 'time', 'Day'], dtype='object')"
            ]
          },
          "metadata": {},
          "execution_count": 7
        }
      ],
      "source": [
        "df.columns"
      ]
    },
    {
      "cell_type": "markdown",
      "metadata": {
        "id": "zj5534cv_Zct"
      },
      "source": [
        "Modify the column names according to the rules of good writing style:\n",
        "\n",
        "* If a name consists of multiple words, use snake_case.\n",
        "* All characters should be in lowercase.\n",
        "* Remove spaces"
      ]
    },
    {
      "cell_type": "code",
      "execution_count": 8,
      "metadata": {
        "id": "ISlFqs5y_Zct"
      },
      "outputs": [],
      "source": [
        "df = df.rename(\n",
        "    columns = {\n",
        "        '  userID' : 'user_id',\n",
        "        'Track' : 'track',\n",
        "        '  City  ' : 'city',\n",
        "        'Day' : 'day'\n",
        "    })"
      ]
    },
    {
      "cell_type": "code",
      "execution_count": 9,
      "metadata": {
        "id": "d4NOAmTW_Zct",
        "colab": {
          "base_uri": "https://localhost:8080/"
        },
        "outputId": "a3119f47-a5f5-4245-8f34-d9fc5c21fa77"
      },
      "outputs": [
        {
          "output_type": "execute_result",
          "data": {
            "text/plain": [
              "Index(['user_id', 'track', 'artist', 'genre', 'city', 'time', 'day'], dtype='object')"
            ]
          },
          "metadata": {},
          "execution_count": 9
        }
      ],
      "source": [
        "df.columns"
      ]
    },
    {
      "cell_type": "markdown",
      "metadata": {
        "id": "xYJk6ksJVpOl"
      },
      "source": [
        "[Return to Table of Contents](#back)"
      ]
    },
    {
      "cell_type": "markdown",
      "metadata": {
        "id": "5ISfbcfY_Zct"
      },
      "source": [
        "### Missing Values <a id='missing_values'></a>\n",
        "First, find the total number of missing values in the table."
      ]
    },
    {
      "cell_type": "code",
      "execution_count": 10,
      "metadata": {
        "id": "RskX29qr_Zct",
        "colab": {
          "base_uri": "https://localhost:8080/"
        },
        "outputId": "8daafa00-eb70-48ab-f913-b393fd513ae0"
      },
      "outputs": [
        {
          "output_type": "execute_result",
          "data": {
            "text/plain": [
              "user_id       0\n",
              "track      1343\n",
              "artist     7567\n",
              "genre      1198\n",
              "city          0\n",
              "time          0\n",
              "day           0\n",
              "dtype: int64"
            ]
          },
          "metadata": {},
          "execution_count": 10
        }
      ],
      "source": [
        "df.isna().sum()"
      ]
    },
    {
      "cell_type": "markdown",
      "metadata": {
        "id": "qubhgnlO_Zct"
      },
      "source": [
        "Not all missing values have an impact on the study. For example, missing values in the `track` and `artist` columns are not crucial. We can simply replace them with a clear indicator.\n",
        "\n",
        "However, missing values in the `genre` column can affect the comparison of music preferences in Springfield and Shelbyville. In real-life scenarios, it is valuable to investigate the reasons behind the missing data and attempt to rectify it. Unfortunately, we don't have that opportunity in this project. Therefore, I will:\n",
        "* Fill in the missing values with an indicator.\n",
        "* Evaluate the extent to which missing values can impact the calculations."
      ]
    },
    {
      "cell_type": "code",
      "execution_count": 11,
      "metadata": {
        "id": "KplB5qWs_Zct"
      },
      "outputs": [],
      "source": [
        "# loop the column name and substitute the missing values with 'unknown'    \n",
        "columns_to_replace = ['track', 'artist', 'genre']\n",
        "\n",
        "for column in columns_to_replace:\n",
        "    df[column] = df[column].fillna('unknown')"
      ]
    },
    {
      "cell_type": "code",
      "execution_count": 12,
      "metadata": {
        "id": "Tq4nYRX4_Zct",
        "colab": {
          "base_uri": "https://localhost:8080/"
        },
        "outputId": "24f92381-cf0f-4eba-8262-62531824eb60"
      },
      "outputs": [
        {
          "output_type": "execute_result",
          "data": {
            "text/plain": [
              "user_id    0\n",
              "track      0\n",
              "artist     0\n",
              "genre      0\n",
              "city       0\n",
              "time       0\n",
              "day        0\n",
              "dtype: int64"
            ]
          },
          "metadata": {},
          "execution_count": 12
        }
      ],
      "source": [
        "# check the missing values\n",
        "df.isna().sum()"
      ]
    },
    {
      "cell_type": "markdown",
      "metadata": {
        "id": "74ZIBmq9VrsK"
      },
      "source": [
        "[Return to Table of Contents](#back)"
      ]
    },
    {
      "cell_type": "markdown",
      "metadata": {
        "id": "BWKRtBJ3_Zct"
      },
      "source": [
        "### Duplicates <a id='duplicates'></a>\n"
      ]
    },
    {
      "cell_type": "code",
      "execution_count": 13,
      "metadata": {
        "id": "36eES_S0_Zct",
        "colab": {
          "base_uri": "https://localhost:8080/"
        },
        "outputId": "1ca8e85f-39b1-4201-89df-25280bf13cd9"
      },
      "outputs": [
        {
          "output_type": "execute_result",
          "data": {
            "text/plain": [
              "3826"
            ]
          },
          "metadata": {},
          "execution_count": 13
        }
      ],
      "source": [
        "# Calculate explicit duplicates\n",
        "df.duplicated().sum()"
      ]
    },
    {
      "cell_type": "code",
      "execution_count": 14,
      "metadata": {
        "id": "exFHq6tt_Zct"
      },
      "outputs": [],
      "source": [
        "# Delete explicit duplicates\n",
        "df = df.drop_duplicates()"
      ]
    },
    {
      "cell_type": "code",
      "execution_count": 15,
      "metadata": {
        "id": "-8PuNWQ0_Zct",
        "colab": {
          "base_uri": "https://localhost:8080/"
        },
        "outputId": "3bb50b93-0ae5-4cac-f1a4-562dcc921bc1"
      },
      "outputs": [
        {
          "output_type": "execute_result",
          "data": {
            "text/plain": [
              "0"
            ]
          },
          "metadata": {},
          "execution_count": 15
        }
      ],
      "source": [
        "# Check the duplicates\n",
        "df.duplicated().sum()"
      ]
    },
    {
      "cell_type": "markdown",
      "metadata": {
        "id": "QlFBsxAr_Zct"
      },
      "source": [
        "Now, remove implicit duplicates in the `genre` column. For example, genre names may be written in different ways. Such errors can also affect the results."
      ]
    },
    {
      "cell_type": "markdown",
      "metadata": {
        "id": "eSjWwsOh_Zct"
      },
      "source": [
        "Display *list* that contains unique genre names, then sort the list alphabetically. To do this:\n",
        "* Retrieve the specified DataFrame column.\n",
        "* Apply a sorting method to the column.\n",
        "* For the sorted column, call a method that will yield all unique values in the column."
      ]
    },
    {
      "cell_type": "code",
      "execution_count": 16,
      "metadata": {
        "id": "JIUcqzZN_Zct",
        "colab": {
          "base_uri": "https://localhost:8080/"
        },
        "outputId": "5008e5bd-e3d8-47d2-f733-726fb15d1b50"
      },
      "outputs": [
        {
          "output_type": "execute_result",
          "data": {
            "text/plain": [
              "array(['acid', 'acoustic', 'action', 'adult', 'africa', 'afrikaans',\n",
              "       'alternative', 'ambient', 'americana', 'animated', 'anime',\n",
              "       'arabesk', 'arabic', 'arena', 'argentinetango', 'art', 'audiobook',\n",
              "       'avantgarde', 'axé', 'baile', 'balkan', 'beats', 'bigroom',\n",
              "       'black', 'bluegrass', 'blues', 'bollywood', 'bossa', 'brazilian',\n",
              "       'breakbeat', 'breaks', 'broadway', 'cantautori', 'cantopop',\n",
              "       'canzone', 'caribbean', 'caucasian', 'celtic', 'chamber',\n",
              "       'children', 'chill', 'chinese', 'choral', 'christian', 'christmas',\n",
              "       'classical', 'classicmetal', 'club', 'colombian', 'comedy',\n",
              "       'conjazz', 'contemporary', 'country', 'cuban', 'dance',\n",
              "       'dancehall', 'dancepop', 'dark', 'death', 'deep', 'deutschrock',\n",
              "       'deutschspr', 'dirty', 'disco', 'dnb', 'documentary', 'downbeat',\n",
              "       'downtempo', 'drum', 'dub', 'dubstep', 'eastern', 'easy',\n",
              "       'electronic', 'electropop', 'emo', 'entehno', 'epicmetal',\n",
              "       'estrada', 'ethnic', 'eurofolk', 'european', 'experimental',\n",
              "       'extrememetal', 'fado', 'film', 'fitness', 'flamenco', 'folk',\n",
              "       'folklore', 'folkmetal', 'folkrock', 'folktronica', 'forró',\n",
              "       'frankreich', 'französisch', 'french', 'funk', 'future', 'gangsta',\n",
              "       'garage', 'german', 'ghazal', 'gitarre', 'glitch', 'gospel',\n",
              "       'gothic', 'grime', 'grunge', 'gypsy', 'handsup', \"hard'n'heavy\",\n",
              "       'hardcore', 'hardstyle', 'hardtechno', 'hip', 'hip-hop', 'hiphop',\n",
              "       'historisch', 'holiday', 'hop', 'horror', 'house', 'idm',\n",
              "       'independent', 'indian', 'indie', 'indipop', 'industrial',\n",
              "       'inspirational', 'instrumental', 'international', 'irish', 'jam',\n",
              "       'japanese', 'jazz', 'jewish', 'jpop', 'jungle', 'k-pop',\n",
              "       'karadeniz', 'karaoke', 'kayokyoku', 'korean', 'laiko', 'latin',\n",
              "       'latino', 'leftfield', 'local', 'lounge', 'loungeelectronic',\n",
              "       'lovers', 'malaysian', 'mandopop', 'marschmusik', 'meditative',\n",
              "       'mediterranean', 'melodic', 'metal', 'metalcore', 'mexican',\n",
              "       'middle', 'minimal', 'miscellaneous', 'modern', 'mood', 'mpb',\n",
              "       'muslim', 'native', 'neoklassik', 'neue', 'new', 'newage',\n",
              "       'newwave', 'nu', 'nujazz', 'numetal', 'oceania', 'old', 'opera',\n",
              "       'orchestral', 'other', 'piano', 'pop', 'popelectronic',\n",
              "       'popeurodance', 'post', 'posthardcore', 'postrock', 'power',\n",
              "       'progmetal', 'progressive', 'psychedelic', 'punjabi', 'punk',\n",
              "       'quebecois', 'ragga', 'ram', 'rancheras', 'rap', 'rave', 'reggae',\n",
              "       'reggaeton', 'regional', 'relax', 'religious', 'retro', 'rhythm',\n",
              "       'rnb', 'rnr', 'rock', 'rockabilly', 'romance', 'roots', 'ruspop',\n",
              "       'rusrap', 'rusrock', 'salsa', 'samba', 'schlager', 'self',\n",
              "       'sertanejo', 'shoegazing', 'showtunes', 'singer', 'ska', 'slow',\n",
              "       'smooth', 'soul', 'soulful', 'sound', 'soundtrack', 'southern',\n",
              "       'specialty', 'speech', 'spiritual', 'sport', 'stonerrock', 'surf',\n",
              "       'swing', 'synthpop', 'sängerportrait', 'tango', 'tanzorchester',\n",
              "       'taraftar', 'tech', 'techno', 'thrash', 'top', 'traditional',\n",
              "       'tradjazz', 'trance', 'tribal', 'trip', 'triphop', 'tropical',\n",
              "       'türk', 'türkçe', 'unknown', 'urban', 'uzbek', 'variété', 'vi',\n",
              "       'videogame', 'vocal', 'western', 'world', 'worldbeat', 'ïîï'],\n",
              "      dtype=object)"
            ]
          },
          "metadata": {},
          "execution_count": 16
        }
      ],
      "source": [
        "# View unique genre names.\n",
        "df['genre'].sort_values().unique()"
      ]
    },
    {
      "cell_type": "markdown",
      "metadata": {
        "id": "qej-Qmuo_Zct"
      },
      "source": [
        "Take a close look at the *list* to identify implicit duplicates of the genre `hiphop`. These duplicates may include inaccurately written names or alternative names for the same genre.\n",
        "\n",
        "We will observe the following implicit duplicates:\n",
        "* `hip`\n",
        "* `hop`\n",
        "* `hip-hop`"
      ]
    },
    {
      "cell_type": "code",
      "execution_count": 17,
      "metadata": {
        "id": "ErNDkmns_Zct"
      },
      "outputs": [],
      "source": [
        "# Function to replace implicit duplicates\n",
        "def replace_wrong_genres(wrong_genres, correct_genre):\n",
        "    for wrong_genre in wrong_genres:\n",
        "        df['genre'] = df['genre'].replace(wrong_genre, correct_genre)"
      ]
    },
    {
      "cell_type": "code",
      "execution_count": 18,
      "metadata": {
        "id": "YN5i2hpmSo09"
      },
      "outputs": [],
      "source": [
        "# Insert a function that replaces implicit duplicates\n",
        "duplicates = ['hip', 'hop', 'hip-hop']\n",
        "genre = 'hiphop'\n",
        "replace_wrong_genres(duplicates, genre)"
      ]
    },
    {
      "cell_type": "code",
      "execution_count": 19,
      "metadata": {
        "id": "wvixALnFG15m",
        "scrolled": true,
        "colab": {
          "base_uri": "https://localhost:8080/"
        },
        "outputId": "462495e4-e82f-4191-a657-0adf271cb8df"
      },
      "outputs": [
        {
          "output_type": "execute_result",
          "data": {
            "text/plain": [
              "array(['acid', 'acoustic', 'action', 'adult', 'africa', 'afrikaans',\n",
              "       'alternative', 'ambient', 'americana', 'animated', 'anime',\n",
              "       'arabesk', 'arabic', 'arena', 'argentinetango', 'art', 'audiobook',\n",
              "       'avantgarde', 'axé', 'baile', 'balkan', 'beats', 'bigroom',\n",
              "       'black', 'bluegrass', 'blues', 'bollywood', 'bossa', 'brazilian',\n",
              "       'breakbeat', 'breaks', 'broadway', 'cantautori', 'cantopop',\n",
              "       'canzone', 'caribbean', 'caucasian', 'celtic', 'chamber',\n",
              "       'children', 'chill', 'chinese', 'choral', 'christian', 'christmas',\n",
              "       'classical', 'classicmetal', 'club', 'colombian', 'comedy',\n",
              "       'conjazz', 'contemporary', 'country', 'cuban', 'dance',\n",
              "       'dancehall', 'dancepop', 'dark', 'death', 'deep', 'deutschrock',\n",
              "       'deutschspr', 'dirty', 'disco', 'dnb', 'documentary', 'downbeat',\n",
              "       'downtempo', 'drum', 'dub', 'dubstep', 'eastern', 'easy',\n",
              "       'electronic', 'electropop', 'emo', 'entehno', 'epicmetal',\n",
              "       'estrada', 'ethnic', 'eurofolk', 'european', 'experimental',\n",
              "       'extrememetal', 'fado', 'film', 'fitness', 'flamenco', 'folk',\n",
              "       'folklore', 'folkmetal', 'folkrock', 'folktronica', 'forró',\n",
              "       'frankreich', 'französisch', 'french', 'funk', 'future', 'gangsta',\n",
              "       'garage', 'german', 'ghazal', 'gitarre', 'glitch', 'gospel',\n",
              "       'gothic', 'grime', 'grunge', 'gypsy', 'handsup', \"hard'n'heavy\",\n",
              "       'hardcore', 'hardstyle', 'hardtechno', 'hiphop', 'historisch',\n",
              "       'holiday', 'horror', 'house', 'idm', 'independent', 'indian',\n",
              "       'indie', 'indipop', 'industrial', 'inspirational', 'instrumental',\n",
              "       'international', 'irish', 'jam', 'japanese', 'jazz', 'jewish',\n",
              "       'jpop', 'jungle', 'k-pop', 'karadeniz', 'karaoke', 'kayokyoku',\n",
              "       'korean', 'laiko', 'latin', 'latino', 'leftfield', 'local',\n",
              "       'lounge', 'loungeelectronic', 'lovers', 'malaysian', 'mandopop',\n",
              "       'marschmusik', 'meditative', 'mediterranean', 'melodic', 'metal',\n",
              "       'metalcore', 'mexican', 'middle', 'minimal', 'miscellaneous',\n",
              "       'modern', 'mood', 'mpb', 'muslim', 'native', 'neoklassik', 'neue',\n",
              "       'new', 'newage', 'newwave', 'nu', 'nujazz', 'numetal', 'oceania',\n",
              "       'old', 'opera', 'orchestral', 'other', 'piano', 'pop',\n",
              "       'popelectronic', 'popeurodance', 'post', 'posthardcore',\n",
              "       'postrock', 'power', 'progmetal', 'progressive', 'psychedelic',\n",
              "       'punjabi', 'punk', 'quebecois', 'ragga', 'ram', 'rancheras', 'rap',\n",
              "       'rave', 'reggae', 'reggaeton', 'regional', 'relax', 'religious',\n",
              "       'retro', 'rhythm', 'rnb', 'rnr', 'rock', 'rockabilly', 'romance',\n",
              "       'roots', 'ruspop', 'rusrap', 'rusrock', 'salsa', 'samba',\n",
              "       'schlager', 'self', 'sertanejo', 'shoegazing', 'showtunes',\n",
              "       'singer', 'ska', 'slow', 'smooth', 'soul', 'soulful', 'sound',\n",
              "       'soundtrack', 'southern', 'specialty', 'speech', 'spiritual',\n",
              "       'sport', 'stonerrock', 'surf', 'swing', 'synthpop',\n",
              "       'sängerportrait', 'tango', 'tanzorchester', 'taraftar', 'tech',\n",
              "       'techno', 'thrash', 'top', 'traditional', 'tradjazz', 'trance',\n",
              "       'tribal', 'trip', 'triphop', 'tropical', 'türk', 'türkçe',\n",
              "       'unknown', 'urban', 'uzbek', 'variété', 'vi', 'videogame', 'vocal',\n",
              "       'western', 'world', 'worldbeat', 'ïîï'], dtype=object)"
            ]
          },
          "metadata": {},
          "execution_count": 19
        }
      ],
      "source": [
        "# Check for implicit duplicates\n",
        "df['genre'].sort_values().unique()"
      ]
    },
    {
      "cell_type": "markdown",
      "metadata": {
        "id": "ALgNbvF3VtPA"
      },
      "source": [
        "[Return to Table of Contents](#back)"
      ]
    },
    {
      "cell_type": "markdown",
      "metadata": {
        "id": "jz6a9-7HQUDd"
      },
      "source": [
        "### Conclusion <a id='data_preprocessing_conclusions'></a>\n",
        "We have identified three issues in our data:\n",
        "- Incorrect title formatting\n",
        "- Missing values\n",
        "- Explicit and implicit duplicates\n",
        "\n",
        "The column titles have been cleaned for easier table processing.\n",
        "All missing values have been replaced with `'unknown'`. However, we still need to assess if the missing values in the `'genre'` column will impact our calculations.\n",
        "\n",
        "The absence of duplicates will provide more accurate and easily interpretable results.\n",
        "\n",
        "Now, we can proceed to hypothesis testing."
      ]
    },
    {
      "cell_type": "markdown",
      "metadata": {
        "id": "eK1es74rVujj"
      },
      "source": [
        "[Return to Table of Contents](#back)"
      ]
    },
    {
      "cell_type": "markdown",
      "metadata": {
        "id": "WttZHXH0SqKk"
      },
      "source": [
        "## Phase 3. Hypotheses Testing <a id='hypotheses'></a>"
      ]
    },
    {
      "cell_type": "markdown",
      "metadata": {
        "id": "Im936VVi_Zcu"
      },
      "source": [
        "### Hypothesis 1: User activity in Springfield and Shelbyville <a id='activity'></a>"
      ]
    },
    {
      "cell_type": "markdown",
      "metadata": {
        "id": "nwt_MuaL_Zcu"
      },
      "source": [
        "According to the first hypothesis, users from Springfield and Shelbyville have behavioral differences in listening to music. This testing uses data collected from three days of the week: Monday, Wednesday, and Friday.\n",
        "\n",
        "* Divide the users into several groups based on the city.\n",
        "* Compare the number of tracks played by each group on Monday, Wednesday, and Friday."
      ]
    },
    {
      "cell_type": "markdown",
      "metadata": {
        "id": "8Dw_YMmT_Zcu"
      },
      "source": [
        "Evaluate user activity in each city. Group the data based on the city and find the number of tracks played in each group.\n",
        "\n"
      ]
    },
    {
      "cell_type": "code",
      "execution_count": 20,
      "metadata": {
        "id": "0_Qs96oh_Zcu",
        "colab": {
          "base_uri": "https://localhost:8080/"
        },
        "outputId": "0e42c5c6-283f-44d3-f43a-0bfa1424df49"
      },
      "outputs": [
        {
          "output_type": "execute_result",
          "data": {
            "text/plain": [
              "city\n",
              "Shelbyville    18512\n",
              "Springfield    42741\n",
              "Name: track, dtype: int64"
            ]
          },
          "metadata": {},
          "execution_count": 20
        }
      ],
      "source": [
        "# Calculate the number of tracks played in each city.\n",
        "df.groupby('city')['track'].count()"
      ]
    },
    {
      "cell_type": "markdown",
      "metadata": {
        "id": "dzli3w8o_Zcu"
      },
      "source": [
        "Users from Springfield play more tracks than users from Shelbyville. However, this does not indicate that the residents of Springfield listen to music more frequently. Springfield is a larger city with a larger user base.\n",
        "\n",
        "Now, group the data based on the day and find the number of tracks played on Monday, Wednesday, and Friday.\n"
      ]
    },
    {
      "cell_type": "code",
      "execution_count": 21,
      "metadata": {
        "id": "uZMKjiJz_Zcu",
        "colab": {
          "base_uri": "https://localhost:8080/"
        },
        "outputId": "c7a49959-f50c-49fb-e6cc-5b5d543ecd08"
      },
      "outputs": [
        {
          "output_type": "execute_result",
          "data": {
            "text/plain": [
              "day\n",
              "Friday       21840\n",
              "Monday       21354\n",
              "Wednesday    18059\n",
              "Name: track, dtype: int64"
            ]
          },
          "metadata": {},
          "execution_count": 21
        }
      ],
      "source": [
        "# Calculate the number of tracks played on each day.\n",
        "df.groupby('day')['track'].count()"
      ]
    },
    {
      "cell_type": "markdown",
      "metadata": {
        "id": "cC2tNrlL_Zcu"
      },
      "source": [
        "Wednesday is the overall calmest day. However, if we consider the two cities separately, we might come to different conclusions."
      ]
    },
    {
      "cell_type": "markdown",
      "metadata": {
        "id": "POzs8bGa_Zcu"
      },
      "source": [
        "We have observed how grouping works based on city or day. Now, let's write a function that will group the data based on city and day.\n",
        "\n",
        "Create a function called `number_tracks()` to calculate the number of tracks played for a specific day and city. The function will require two parameters:\n",
        "* The name of the day in a week.\n",
        "* The name of the city.\n",
        "\n",
        "In the function we are creating, use a variable to store the rows from the original table, where:\n",
        "* The value in the 'day' column is equal to the day parameter.\n",
        "* The value in the 'city' column is equal to the city parameter.\n",
        "\n",
        "Apply sequential filtering using logical indexing.\n",
        "\n",
        "Then, calculate the number of `'user_id'` values in the resulting table. Store the result in a new variable. Finally, return this variable from the function."
      ]
    },
    {
      "cell_type": "code",
      "execution_count": 22,
      "metadata": {
        "id": "Nz3GdQB1_Zcu"
      },
      "outputs": [],
      "source": [
        "# <Creating the function number_tracks()>\n",
        "# We will declare a function with two parameters: day=, city=.\n",
        "# Make the variable track_list store the rows of the df, where\n",
        "# the value in the 'day' column is equal to the day= parameter, and at the same time,\n",
        "# the value in the 'city' column is equal to the city= parameter (apply sequential filtering with logical indexing).\n",
        "# Make the variable track_list_count store the count of the 'user_id' column values in track_list (using the count() method).\n",
        "# Ensure that the function produces a number: the value of track_list_count.\n",
        "\n",
        "def number_tracks(day, city):\n",
        "    track_list = df[df['day'] == day]\n",
        "    track_list = track_list[track_list['city'] == city]\n",
        "    track_list_count = track_list['user_id'].count()\n",
        "    return track_list_count\n",
        "\n",
        "\n",
        "# The function calculates the number of tracks played for a specific city and day.\n",
        "# First, it retrieves the rows with the desired day from the table,\n",
        "# then it filters those rows with the desired city,\n",
        "# then it calculates the count of 'user_id' values in the filtered table,\n",
        "# and finally, it returns that count.\n",
        "# To see the result, wrap the function call in a print() statement.\n"
      ]
    },
    {
      "cell_type": "markdown",
      "metadata": {
        "id": "ytf7xFrFJQ2r"
      },
      "source": [
        "Call `number_tracks()` six times and change the parameter values in each call so we can retrieve data for both cities for each day (Monday, Wednesday, and Friday)."
      ]
    },
    {
      "cell_type": "code",
      "execution_count": 23,
      "metadata": {
        "id": "rJcRATNQ_Zcu",
        "colab": {
          "base_uri": "https://localhost:8080/"
        },
        "outputId": "118fa646-8065-400e-ddf0-daa0676c14b2"
      },
      "outputs": [
        {
          "output_type": "stream",
          "name": "stdout",
          "text": [
            "15740\n"
          ]
        }
      ],
      "source": [
        "# The number of tracks played in Springfield on Monday\n",
        "print(number_tracks('Monday', 'Springfield'))"
      ]
    },
    {
      "cell_type": "code",
      "execution_count": 24,
      "metadata": {
        "id": "hq_ncZ5T_Zcu",
        "colab": {
          "base_uri": "https://localhost:8080/"
        },
        "outputId": "a544ce06-27e2-4eaf-94ec-6a9dd0ff6caa"
      },
      "outputs": [
        {
          "output_type": "stream",
          "name": "stdout",
          "text": [
            "5614\n"
          ]
        }
      ],
      "source": [
        "# The number of tracks played in Shelbyville on Monday\n",
        "print(number_tracks('Monday', 'Shelbyville'))"
      ]
    },
    {
      "cell_type": "code",
      "execution_count": 25,
      "metadata": {
        "id": "_NTy2VPU_Zcu",
        "colab": {
          "base_uri": "https://localhost:8080/"
        },
        "outputId": "9bdfc2a2-5bd7-4f52-c478-709a8f5817b7"
      },
      "outputs": [
        {
          "output_type": "stream",
          "name": "stdout",
          "text": [
            "11056\n"
          ]
        }
      ],
      "source": [
        "#  The number of tracks played in Springfield on Wednesday\n",
        "print(number_tracks('Wednesday', 'Springfield'))"
      ]
    },
    {
      "cell_type": "code",
      "execution_count": 26,
      "metadata": {
        "id": "j2y3TAwo_Zcu",
        "colab": {
          "base_uri": "https://localhost:8080/"
        },
        "outputId": "922212b1-29e6-41f3-e113-15e9e7c49566"
      },
      "outputs": [
        {
          "output_type": "stream",
          "name": "stdout",
          "text": [
            "7003\n"
          ]
        }
      ],
      "source": [
        "#  The number of tracks played in Shelbyville on Wednesday\n",
        "print(number_tracks('Wednesday', 'Shelbyville'))"
      ]
    },
    {
      "cell_type": "code",
      "execution_count": 27,
      "metadata": {
        "id": "vYDw5u_K_Zcu",
        "colab": {
          "base_uri": "https://localhost:8080/"
        },
        "outputId": "e358667f-caaf-4b50-ce48-323184f37b1c"
      },
      "outputs": [
        {
          "output_type": "stream",
          "name": "stdout",
          "text": [
            "15945\n"
          ]
        }
      ],
      "source": [
        "# The number of tracks played in Springfield on Friday\n",
        "print(number_tracks('Friday', 'Springfield'))"
      ]
    },
    {
      "cell_type": "code",
      "execution_count": 28,
      "metadata": {
        "id": "8_yzFtW3_Zcu",
        "colab": {
          "base_uri": "https://localhost:8080/"
        },
        "outputId": "29eb30e8-e6fa-4e1a-bcef-d5d9d9fc9a60"
      },
      "outputs": [
        {
          "output_type": "stream",
          "name": "stdout",
          "text": [
            "5895\n"
          ]
        }
      ],
      "source": [
        "# The number of tracks played in Shelbyville on Friday\n",
        "print(number_tracks('Friday', 'Shelbyville'))"
      ]
    },
    {
      "cell_type": "markdown",
      "metadata": {
        "id": "7QXffbO-_Zcu"
      },
      "source": [
        "Use `pd.DataFrame` to create a table with the following specifications:\n",
        "* The column names are: `['city', 'monday', 'wednesday', 'friday']`\n",
        "* The data is the result of `number_tracks()`\n"
      ]
    },
    {
      "cell_type": "code",
      "execution_count": 29,
      "metadata": {
        "id": "APAcLpOr_Zcu",
        "scrolled": true,
        "colab": {
          "base_uri": "https://localhost:8080/"
        },
        "outputId": "c721fc9c-c929-4839-91b8-49f114b7b8ae"
      },
      "outputs": [
        {
          "output_type": "stream",
          "name": "stdout",
          "text": [
            "day         city  friday  monday  wednesday\n",
            "0    Shelbyville    5895    5614       7003\n",
            "1    Springfield   15945   15740      11056\n"
          ]
        }
      ],
      "source": [
        "# result table\n",
        "result = df.groupby(['city', 'day']).size().reset_index()\\\n",
        ".pivot(index='city', columns='day', values=0).reset_index()\\\n",
        ".rename(columns={i:i.lower() for i in ['Friday', 'Monday', 'Wednesday']})\n",
        "[['city', 'monday', 'wednesday', 'friday']]\n",
        "print(result)"
      ]
    },
    {
      "cell_type": "markdown",
      "metadata": {
        "id": "-EgPIHYu_Zcu"
      },
      "source": [
        "**Conclusion**\n",
        "\n",
        "The data obtained reveals differences in user behavior:\n",
        "* In Springfield, the number of tracks played reaches its peak on Monday and Friday, while there is a decrease in activity on Wednesday.\n",
        "* In Shelbyville, on the other hand, users listen music more on Wednesday and user activity is lower on Monday and Friday."
      ]
    },
    {
      "cell_type": "markdown",
      "metadata": {
        "id": "p7nFQajCVw5B"
      },
      "source": [
        "[Return to Table of Contents](#back)"
      ]
    },
    {
      "cell_type": "markdown",
      "metadata": {
        "id": "atZAxtq4_Zcu"
      },
      "source": [
        "### Hypothesis 2: Music at the Beginning and End of the Week. <a id='week'></a>\n"
      ]
    },
    {
      "cell_type": "markdown",
      "metadata": {
        "id": "eXrQqXFH_Zcu"
      },
      "source": [
        "According to the second hypothesis, on Monday mornings and Friday evenings, residents of Springfield listen to different music genres compared to the ones enjoyed by residents of Shelbyville."
      ]
    },
    {
      "cell_type": "markdown",
      "metadata": {
        "id": "S8UcW6Hw_Zcu"
      },
      "source": [
        "Get the tables:\n",
        "* For Springfield — `spr_general`\n",
        "* For Shelbyville — `shel_general`\n"
      ]
    },
    {
      "cell_type": "code",
      "execution_count": 30,
      "metadata": {
        "id": "qeaFfM_P_Zcu"
      },
      "outputs": [],
      "source": [
        "# Get the table spr_general from df, where the value in the 'city' column is 'Springfield'.\n",
        "spr_general = df[df['city'] == 'Springfield']"
      ]
    },
    {
      "cell_type": "code",
      "execution_count": 31,
      "metadata": {
        "id": "ORaVRKto_Zcu"
      },
      "outputs": [],
      "source": [
        "# Get the table shel_general from df, where the value in the 'city' column is 'Shelbyville'.\n",
        "shel_general = df[df['city'] == 'Shelbyville']"
      ]
    },
    {
      "cell_type": "markdown",
      "metadata": {
        "id": "MEJV-CX2_Zcu"
      },
      "source": [
        "Write a function called `genre_weekday()` with four parameters:\n",
        "* A table for the data\n",
        "* The name of the weekday\n",
        "* The start time stamp in the format 'hh:mm'\n",
        "* The end time stamp in the format 'hh:mm'\n",
        "\n",
        "The function should provide information about the top 15 most popular genres on a specific weekday during the period between the two time stamps."
      ]
    },
    {
      "cell_type": "code",
      "execution_count": 32,
      "metadata": {
        "id": "laJT9BYl_Zcu"
      },
      "outputs": [],
      "source": [
        "# Declare the function genre_weekday() with parameters day=, time1=, and time2=. The function should\n",
        "# provide information about the most popular genres on a specific day and time:\n",
        "# 1) Make the variable genre_df store the rows that satisfy the following conditions:\n",
        "#   - the value in the 'day' column is equal to the day= argument value\n",
        "#   - the value in the 'time' column is greater than the time1= argument value\n",
        "#   - the value in the 'time' column is less than the time2= argument value\n",
        "#   Use sequential filtering with logical indexing.\n",
        "#\n",
        "# 2) Group genre_df by the 'genre' column, then take one of its columns,\n",
        "#    and use the count() method to find the count of entries for each\n",
        "#    represented genre; store the resulting Series in the variable genre_df_count.\n",
        "#\n",
        "# 3) Sort genre_df_count in descending order based on frequency and store the result\n",
        "#    in the variable genre_df_sorted.\n",
        "#\n",
        "# 4) Generate a Series object with the first 15 values from genre_df_sorted - the top\n",
        "#    15 most popular genres (on a specific day, during a specific time period).\n",
        "\n",
        "def genre_weekday(table, day, time1, time2):\n",
        "\n",
        "    # sequential filtering\n",
        "    genre_df = table\n",
        "    \n",
        "    # genre_df will only store the rows of df that have the same day value as day.\n",
        "    genre_df = genre_df[genre_df['day'] == day]\n",
        "\n",
        "    # genre_df will only store the rows of df that have a time value smaller than time2.\n",
        "    genre_df = genre_df[genre_df['time'] < time2]\n",
        "\n",
        "    # genre_df will only store the rows of df that have a time value larger than time1.\n",
        "    genre_df = genre_df[genre_df['time'] > time1]\n",
        "\n",
        "    # Group the filtered DataFrame by the column named 'genre', select the 'genre' column, and find the count of rows for each genre using the count() method.\n",
        "    genre_df_count = genre_df.groupby('genre')['genre'].count()\n",
        "\n",
        "    # Sort the results in descending order (the most popular genres appear earlier in the Series object).\n",
        "    genre_df_sorted = genre_df_count.sort_values(ascending = False)\n",
        "\n",
        "    # Generate a Series object that stores the top 15 most popular genres on a specific day during a specific time period.\n",
        "    return genre_df_sorted[:15]"
      ]
    },
    {
      "cell_type": "markdown",
      "metadata": {
        "id": "la2s2_PF_Zcu"
      },
      "source": [
        "Compare the results of the `genre_weekday()` function for Springfield and Shelbyville on Monday morning (from 07:00 to 11:00) and on Friday evening (from 17:00 to 23:00):"
      ]
    },
    {
      "cell_type": "code",
      "execution_count": 33,
      "metadata": {
        "id": "yz7itPUQ_Zcu",
        "colab": {
          "base_uri": "https://localhost:8080/"
        },
        "outputId": "1b38f5d6-6e0d-4248-b10f-d235dd7b7561"
      },
      "outputs": [
        {
          "output_type": "execute_result",
          "data": {
            "text/plain": [
              "genre\n",
              "pop            781\n",
              "dance          549\n",
              "electronic     480\n",
              "rock           474\n",
              "hiphop         286\n",
              "ruspop         186\n",
              "world          181\n",
              "rusrap         175\n",
              "alternative    164\n",
              "unknown        161\n",
              "classical      157\n",
              "metal          120\n",
              "jazz           100\n",
              "folk            97\n",
              "soundtrack      95\n",
              "Name: genre, dtype: int64"
            ]
          },
          "metadata": {},
          "execution_count": 33
        }
      ],
      "source": [
        "# Call the function for Monday morning in Springfield (spr_general)\n",
        "genre_weekday(spr_general, 'Monday', '07:00', '11:00')"
      ]
    },
    {
      "cell_type": "code",
      "execution_count": 34,
      "metadata": {
        "id": "kwUcHPdy_Zcu",
        "colab": {
          "base_uri": "https://localhost:8080/"
        },
        "outputId": "6d7640eb-ff19-4fe1-d2b9-308f9d747060"
      },
      "outputs": [
        {
          "output_type": "execute_result",
          "data": {
            "text/plain": [
              "genre\n",
              "pop            218\n",
              "dance          182\n",
              "rock           162\n",
              "electronic     147\n",
              "hiphop          80\n",
              "ruspop          64\n",
              "alternative     58\n",
              "rusrap          55\n",
              "jazz            44\n",
              "classical       40\n",
              "world           36\n",
              "rap             32\n",
              "soundtrack      31\n",
              "rnb             27\n",
              "metal           27\n",
              "Name: genre, dtype: int64"
            ]
          },
          "metadata": {},
          "execution_count": 34
        }
      ],
      "source": [
        "# Call the function for Monday morning in Shelbyville (shel_general)\n",
        "genre_weekday(shel_general, 'Monday', '07:00', '11:00')"
      ]
    },
    {
      "cell_type": "code",
      "execution_count": 35,
      "metadata": {
        "id": "EzXVRE1o_Zcu",
        "colab": {
          "base_uri": "https://localhost:8080/"
        },
        "outputId": "589f5076-1a46-46f6-f715-1a1efaf051d1"
      },
      "outputs": [
        {
          "output_type": "execute_result",
          "data": {
            "text/plain": [
              "genre\n",
              "pop            713\n",
              "rock           517\n",
              "dance          495\n",
              "electronic     482\n",
              "hiphop         273\n",
              "world          208\n",
              "ruspop         170\n",
              "classical      163\n",
              "alternative    163\n",
              "rusrap         142\n",
              "jazz           111\n",
              "unknown        110\n",
              "soundtrack     105\n",
              "rnb             90\n",
              "metal           88\n",
              "Name: genre, dtype: int64"
            ]
          },
          "metadata": {},
          "execution_count": 35
        }
      ],
      "source": [
        "# Call the function for Friday evening in Springfield\n",
        "genre_weekday(spr_general, 'Friday', '17:00', '23:00')"
      ]
    },
    {
      "cell_type": "code",
      "execution_count": 36,
      "metadata": {
        "id": "JZaEKu5v_Zcu",
        "colab": {
          "base_uri": "https://localhost:8080/"
        },
        "outputId": "a261212c-3edf-44b8-8f13-b4e98d58aecc"
      },
      "outputs": [
        {
          "output_type": "execute_result",
          "data": {
            "text/plain": [
              "genre\n",
              "pop            256\n",
              "rock           216\n",
              "electronic     216\n",
              "dance          210\n",
              "hiphop          97\n",
              "alternative     63\n",
              "jazz            61\n",
              "classical       60\n",
              "rusrap          59\n",
              "world           54\n",
              "unknown         47\n",
              "ruspop          47\n",
              "soundtrack      40\n",
              "metal           39\n",
              "rap             36\n",
              "Name: genre, dtype: int64"
            ]
          },
          "metadata": {},
          "execution_count": 36
        }
      ],
      "source": [
        "# Call the function for Friday evening in Shelbyville\n",
        "genre_weekday(shel_general, 'Friday', '17:00', '23:00')"
      ]
    },
    {
      "cell_type": "markdown",
      "metadata": {
        "id": "wrCe4MNX_Zcu"
      },
      "source": [
        "**Conclusion**\n",
        "\n",
        "After comparing the top 15 genres on Monday morning, we can draw the following conclusions:\n",
        "\n",
        "1. Users from Springfield and Shelbyville listen to music with the same genres. The top five genres in both cities are the same, with only rock and electronic genres swapping places.\n",
        "\n",
        "1. In Springfield, the amount of missing values is surprisingly high, resulting in the `'unknown'` value being ranked 10th. This indicates that the missing values comprise a significant proportion of the data, raising concerns about the reliability of our conclusions.\n",
        "\n",
        "For Friday evening, the situation is similar. Individual genres vary, but overall, the top 15 genres are the same for both cities.\n",
        "\n",
        "Therefore, the second hypothesis is partially true:\n",
        "* Users listen to the same music at the beginning and end of the week.\n",
        "* There are no noticeable differences between Springfield and Shelbyville. In both cities, pop is the most popular genre.\n",
        "\n",
        "However, the significance of the missing values raises doubts about these results. In Springfield, there are so many missing values that they affect our top 15 genre results. Without these missing values, the results could be different."
      ]
    },
    {
      "cell_type": "markdown",
      "metadata": {
        "id": "jLmXgdanVyhP"
      },
      "source": [
        "[Return to Table of Contents](#back)"
      ]
    },
    {
      "cell_type": "markdown",
      "metadata": {
        "id": "JolODAqr_Zcu"
      },
      "source": [
        "### Hypothesis 3: Genre Preferences in Springfield and Shelbyville. <a id='genre'></a>\n"
      ]
    },
    {
      "cell_type": "markdown",
      "source": [
        "\n",
        "Hypothesis: Shelbyville enjoys rap music, while residents of Springfield have a preference for pop."
      ],
      "metadata": {
        "id": "2z1U4RfNT0ml"
      }
    },
    {
      "cell_type": "markdown",
      "metadata": {
        "id": "DlegSvaT_Zcu"
      },
      "source": [
        "Group the `spr_general` table by genre and find the count of tracks played for each genre using the `count()` method. Then, sort the results in descending order and save it to `spr_genres`."
      ]
    },
    {
      "cell_type": "code",
      "execution_count": 37,
      "metadata": {
        "id": "r19lIPke_Zcu"
      },
      "outputs": [],
      "source": [
        "# Group the spr_general table based on the 'genre' column, \n",
        "# calculate the count of the 'genre' column using count() within the grouping, \n",
        "# sort the resulting Series in descending order, and save the result to spr_genres\n",
        "spr_genres = spr_general.groupby('genre')['track'].count()\n",
        "spr_genres = spr_genres.sort_values(ascending = False)"
      ]
    },
    {
      "cell_type": "code",
      "execution_count": 38,
      "metadata": {
        "id": "WhCSooF8_Zcv",
        "colab": {
          "base_uri": "https://localhost:8080/"
        },
        "outputId": "18dcd2a7-24b8-4e67-bfb1-8124a52eaeab"
      },
      "outputs": [
        {
          "output_type": "execute_result",
          "data": {
            "text/plain": [
              "genre\n",
              "pop            5892\n",
              "dance          4435\n",
              "rock           3965\n",
              "electronic     3786\n",
              "hiphop         2096\n",
              "classical      1616\n",
              "world          1432\n",
              "alternative    1379\n",
              "ruspop         1372\n",
              "rusrap         1161\n",
              "Name: track, dtype: int64"
            ]
          },
          "metadata": {},
          "execution_count": 38
        }
      ],
      "source": [
        "# Displaying the first 10 rows of spr_genres\n",
        "spr_genres.head(10)"
      ]
    },
    {
      "cell_type": "markdown",
      "metadata": {
        "id": "cnPG2vnN_Zcv"
      },
      "source": [
        "Now, let's do the same for the data from Shelbyville.\n",
        "\n",
        "Group the `shel_general` table by genre and find the count of tracks played for each genre. Then, sort the resulting series in descending order and save the results to the `shel_genres` table."
      ]
    },
    {
      "cell_type": "code",
      "execution_count": 39,
      "metadata": {
        "id": "gluLIpE7_Zcv"
      },
      "outputs": [],
      "source": [
        "# Group the shel_general table based on the 'genre' column, \n",
        "# calculate the count of the 'genre' column using count() within the grouping, \n",
        "# sort the resulting Series in descending order, and save the result to shel_general\n",
        "shel_genres = shel_general.groupby('genre')['track'].count()\n",
        "shel_genres = shel_genres.sort_values(ascending = False)"
      ]
    },
    {
      "cell_type": "code",
      "execution_count": 40,
      "metadata": {
        "id": "uaGJHjVU_Zcv",
        "colab": {
          "base_uri": "https://localhost:8080/"
        },
        "outputId": "20903c00-85d8-45a0-802c-cc2893982ce9"
      },
      "outputs": [
        {
          "output_type": "execute_result",
          "data": {
            "text/plain": [
              "genre\n",
              "pop            2431\n",
              "dance          1932\n",
              "rock           1879\n",
              "electronic     1736\n",
              "hiphop          960\n",
              "alternative     649\n",
              "classical       646\n",
              "rusrap          564\n",
              "ruspop          538\n",
              "world           515\n",
              "Name: track, dtype: int64"
            ]
          },
          "metadata": {},
          "execution_count": 40
        }
      ],
      "source": [
        "# Displaying the first 10 rows of shel_genres\n",
        "shel_genres.head(10)"
      ]
    },
    {
      "cell_type": "markdown",
      "metadata": {
        "id": "RY51YJYu_Zcv"
      },
      "source": [
        "**Conclusion**\n",
        "\n",
        "\n",
        "This hypothesis is partially confirmed:\n",
        "\n",
        "* Pop music is the most popular genre in Springfield, as we suspected.\n",
        "* However, pop music is equally popular in both Springfield and Shelbyville, and rap music does not appear in the top 5 genres for either city."
      ]
    },
    {
      "cell_type": "markdown",
      "metadata": {
        "id": "Byr0RfpPVz14"
      },
      "source": [
        "[Return to the Table of Contents](#back)"
      ]
    },
    {
      "cell_type": "markdown",
      "metadata": {
        "id": "ykKQ0N65_Zcv"
      },
      "source": [
        "# Findings <a id='end'></a>"
      ]
    },
    {
      "cell_type": "markdown",
      "metadata": {
        "id": "tjUwbHb3_Zcv"
      },
      "source": [
        "We have tested the following three hypotheses:\n",
        "1. User activity in Springfield and Shelbyville is dependent on the day of the week, although these two cities vary in various ways.\n",
        "1. On Monday mornings, residents of Springfield and Shelbyville listen to different genres. This also applies on Friday nights.\n",
        "1. Listeners in Springfield and Shelbyville have different preferences. In both Springfield and Shelbyville, they prefer pop music.\n",
        "\n",
        "\n",
        "After analyzing the available data, we can conclude that:\n",
        "1. User activity in Springfield and Shelbyville is dependent on the day of the week, despite the differences between the cities.\n",
        "\n",
        "The first hypothesis is fully accepted.\n",
        "\n",
        "2. Music preferences do not significantly vary throughout the week in Springfield and Shelbyville. We can observe minor differences in rankings on Monday, but:\n",
        "* Both in Springfield and Shelbyville, users mostly listen to pop music.\n",
        "\n",
        "Therefore, this hypothesis cannot be accepted. It is also important to note that the results may differ if we didn't have missing values.\n",
        "\n",
        "3. It turns out that the music preferences of users from Springfield and Shelbyville are very similar.\n",
        "\n",
        "The third hypothesis is rejected. If there are indeed differences in preferences, unfortunately, we cannot determine them from this data."
      ]
    },
    {
      "cell_type": "markdown",
      "metadata": {
        "id": "Ju4AHDSgV1FE"
      },
      "source": [
        "[Return to Table of Contents](#back)"
      ]
    }
  ],
  "metadata": {
    "colab": {
      "collapsed_sections": [
        "E0vqbgi9ay0H"
      ],
      "provenance": [],
      "include_colab_link": true
    },
    "kernelspec": {
      "display_name": "Python 3 (ipykernel)",
      "language": "python",
      "name": "python3"
    },
    "language_info": {
      "codemirror_mode": {
        "name": "ipython",
        "version": 3
      },
      "file_extension": ".py",
      "mimetype": "text/x-python",
      "name": "python",
      "nbconvert_exporter": "python",
      "pygments_lexer": "ipython3",
      "version": "3.9.5"
    },
    "toc": {
      "base_numbering": 1,
      "nav_menu": {},
      "number_sections": true,
      "sideBar": true,
      "skip_h1_title": true,
      "title_cell": "Table of Contents",
      "title_sidebar": "Contents",
      "toc_cell": false,
      "toc_position": {},
      "toc_section_display": true,
      "toc_window_display": false
    }
  },
  "nbformat": 4,
  "nbformat_minor": 0
}